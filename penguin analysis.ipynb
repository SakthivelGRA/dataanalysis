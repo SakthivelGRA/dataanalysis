{
 "cells": [
  {
   "cell_type": "code",
   "execution_count": 1,
   "id": "49b08c4c",
   "metadata": {},
   "outputs": [],
   "source": [
    "import pandas as pd\n",
    "import numpy as np\n",
    "import seaborn as sns\n",
    "import matplotlib.pyplot as plt"
   ]
  },
  {
   "cell_type": "code",
   "execution_count": 2,
   "id": "7a9f1e4d",
   "metadata": {},
   "outputs": [],
   "source": [
    "df1=pd.read_csv('Penguins+Analysis.csv')"
   ]
  },
  {
   "cell_type": "code",
   "execution_count": 3,
   "id": "b8b56133",
   "metadata": {},
   "outputs": [
    {
     "data": {
      "text/html": [
       "<div>\n",
       "<style scoped>\n",
       "    .dataframe tbody tr th:only-of-type {\n",
       "        vertical-align: middle;\n",
       "    }\n",
       "\n",
       "    .dataframe tbody tr th {\n",
       "        vertical-align: top;\n",
       "    }\n",
       "\n",
       "    .dataframe thead th {\n",
       "        text-align: right;\n",
       "    }\n",
       "</style>\n",
       "<table border=\"1\" class=\"dataframe\">\n",
       "  <thead>\n",
       "    <tr style=\"text-align: right;\">\n",
       "      <th></th>\n",
       "      <th>species</th>\n",
       "      <th>island</th>\n",
       "      <th>culmen length</th>\n",
       "      <th>culmen depth</th>\n",
       "      <th>flipper length</th>\n",
       "      <th>body mass</th>\n",
       "      <th>sex</th>\n",
       "    </tr>\n",
       "  </thead>\n",
       "  <tbody>\n",
       "    <tr>\n",
       "      <th>0</th>\n",
       "      <td>Adelie</td>\n",
       "      <td>Torgersen</td>\n",
       "      <td>39.1</td>\n",
       "      <td>18.7</td>\n",
       "      <td>181</td>\n",
       "      <td>3750</td>\n",
       "      <td>MALE</td>\n",
       "    </tr>\n",
       "    <tr>\n",
       "      <th>1</th>\n",
       "      <td>Adelie</td>\n",
       "      <td>Torgersen</td>\n",
       "      <td>39.5</td>\n",
       "      <td>17.4</td>\n",
       "      <td>186</td>\n",
       "      <td>3800</td>\n",
       "      <td>FEMALE</td>\n",
       "    </tr>\n",
       "    <tr>\n",
       "      <th>2</th>\n",
       "      <td>Adelie</td>\n",
       "      <td>Torgersen</td>\n",
       "      <td>40.3</td>\n",
       "      <td>18.0</td>\n",
       "      <td>195</td>\n",
       "      <td>3250</td>\n",
       "      <td>FEMALE</td>\n",
       "    </tr>\n",
       "    <tr>\n",
       "      <th>3</th>\n",
       "      <td>Adelie</td>\n",
       "      <td>Torgersen</td>\n",
       "      <td>36.7</td>\n",
       "      <td>19.3</td>\n",
       "      <td>193</td>\n",
       "      <td>3450</td>\n",
       "      <td>FEMALE</td>\n",
       "    </tr>\n",
       "    <tr>\n",
       "      <th>4</th>\n",
       "      <td>Adelie</td>\n",
       "      <td>Torgersen</td>\n",
       "      <td>39.3</td>\n",
       "      <td>20.6</td>\n",
       "      <td>190</td>\n",
       "      <td>3650</td>\n",
       "      <td>MALE</td>\n",
       "    </tr>\n",
       "    <tr>\n",
       "      <th>...</th>\n",
       "      <td>...</td>\n",
       "      <td>...</td>\n",
       "      <td>...</td>\n",
       "      <td>...</td>\n",
       "      <td>...</td>\n",
       "      <td>...</td>\n",
       "      <td>...</td>\n",
       "    </tr>\n",
       "    <tr>\n",
       "      <th>328</th>\n",
       "      <td>Gentoo</td>\n",
       "      <td>Biscoe</td>\n",
       "      <td>47.2</td>\n",
       "      <td>13.7</td>\n",
       "      <td>214</td>\n",
       "      <td>4925</td>\n",
       "      <td>FEMALE</td>\n",
       "    </tr>\n",
       "    <tr>\n",
       "      <th>329</th>\n",
       "      <td>Gentoo</td>\n",
       "      <td>Biscoe</td>\n",
       "      <td>46.8</td>\n",
       "      <td>14.3</td>\n",
       "      <td>215</td>\n",
       "      <td>4850</td>\n",
       "      <td>FEMALE</td>\n",
       "    </tr>\n",
       "    <tr>\n",
       "      <th>330</th>\n",
       "      <td>Gentoo</td>\n",
       "      <td>Biscoe</td>\n",
       "      <td>50.4</td>\n",
       "      <td>15.7</td>\n",
       "      <td>222</td>\n",
       "      <td>5750</td>\n",
       "      <td>MALE</td>\n",
       "    </tr>\n",
       "    <tr>\n",
       "      <th>331</th>\n",
       "      <td>Gentoo</td>\n",
       "      <td>Biscoe</td>\n",
       "      <td>45.2</td>\n",
       "      <td>14.8</td>\n",
       "      <td>212</td>\n",
       "      <td>5200</td>\n",
       "      <td>FEMALE</td>\n",
       "    </tr>\n",
       "    <tr>\n",
       "      <th>332</th>\n",
       "      <td>Gentoo</td>\n",
       "      <td>Biscoe</td>\n",
       "      <td>49.9</td>\n",
       "      <td>16.1</td>\n",
       "      <td>213</td>\n",
       "      <td>5400</td>\n",
       "      <td>MALE</td>\n",
       "    </tr>\n",
       "  </tbody>\n",
       "</table>\n",
       "<p>333 rows × 7 columns</p>\n",
       "</div>"
      ],
      "text/plain": [
       "    species     island  culmen length  culmen depth  flipper length  \\\n",
       "0    Adelie  Torgersen           39.1          18.7             181   \n",
       "1    Adelie  Torgersen           39.5          17.4             186   \n",
       "2    Adelie  Torgersen           40.3          18.0             195   \n",
       "3    Adelie  Torgersen           36.7          19.3             193   \n",
       "4    Adelie  Torgersen           39.3          20.6             190   \n",
       "..      ...        ...            ...           ...             ...   \n",
       "328  Gentoo     Biscoe           47.2          13.7             214   \n",
       "329  Gentoo     Biscoe           46.8          14.3             215   \n",
       "330  Gentoo     Biscoe           50.4          15.7             222   \n",
       "331  Gentoo     Biscoe           45.2          14.8             212   \n",
       "332  Gentoo     Biscoe           49.9          16.1             213   \n",
       "\n",
       "     body mass     sex  \n",
       "0         3750    MALE  \n",
       "1         3800  FEMALE  \n",
       "2         3250  FEMALE  \n",
       "3         3450  FEMALE  \n",
       "4         3650    MALE  \n",
       "..         ...     ...  \n",
       "328       4925  FEMALE  \n",
       "329       4850  FEMALE  \n",
       "330       5750    MALE  \n",
       "331       5200  FEMALE  \n",
       "332       5400    MALE  \n",
       "\n",
       "[333 rows x 7 columns]"
      ]
     },
     "execution_count": 3,
     "metadata": {},
     "output_type": "execute_result"
    }
   ],
   "source": [
    "df1"
   ]
  },
  {
   "cell_type": "code",
   "execution_count": 4,
   "id": "b561e14c",
   "metadata": {},
   "outputs": [
    {
     "data": {
      "text/plain": [
       "species\n",
       "Adelie       146\n",
       "Gentoo       119\n",
       "Chinstrap     68\n",
       "Name: count, dtype: int64"
      ]
     },
     "execution_count": 4,
     "metadata": {},
     "output_type": "execute_result"
    }
   ],
   "source": [
    "df1['species'].value_counts()"
   ]
  },
  {
   "cell_type": "code",
   "execution_count": 8,
   "id": "7bd4fc5d",
   "metadata": {},
   "outputs": [
    {
     "data": {
      "text/plain": [
       "island\n",
       "Biscoe       AdelieAdelieAdelieAdelieAdelieAdelieAdelieAdel...\n",
       "Dream        AdelieAdelieAdelieAdelieAdelieAdelieAdelieAdel...\n",
       "Torgersen    AdelieAdelieAdelieAdelieAdelieAdelieAdelieAdel...\n",
       "Name: species, dtype: object"
      ]
     },
     "execution_count": 8,
     "metadata": {},
     "output_type": "execute_result"
    }
   ],
   "source": [
    "df1.groupby('island')['species'].sum()"
   ]
  },
  {
   "cell_type": "code",
   "execution_count": 9,
   "id": "cddc8a8f",
   "metadata": {},
   "outputs": [
    {
     "data": {
      "text/plain": [
       "island\n",
       "Biscoe       163\n",
       "Dream        123\n",
       "Torgersen     47\n",
       "Name: count, dtype: int64"
      ]
     },
     "execution_count": 9,
     "metadata": {},
     "output_type": "execute_result"
    }
   ],
   "source": [
    "df1['island'].value_counts()"
   ]
  },
  {
   "cell_type": "code",
   "execution_count": 17,
   "id": "7265ff03",
   "metadata": {},
   "outputs": [],
   "source": [
    "male_penguins = df1[df1['sex'] == 'Male']  # Assuming there's a 'Sex' column with values 'Male' and 'Female'\n",
    "average_body_mass_by_species = male_penguins.groupby('species')['body mass'].mean()"
   ]
  },
  {
   "cell_type": "code",
   "execution_count": 18,
   "id": "bf2bfe00",
   "metadata": {},
   "outputs": [
    {
     "data": {
      "text/plain": [
       "Series([], Name: body mass, dtype: float64)"
      ]
     },
     "execution_count": 18,
     "metadata": {},
     "output_type": "execute_result"
    }
   ],
   "source": [
    "average_body_mass_by_species"
   ]
  },
  {
   "cell_type": "code",
   "execution_count": 19,
   "id": "88ac1490",
   "metadata": {},
   "outputs": [
    {
     "data": {
      "text/plain": [
       "species\n",
       "Adelie       3706.164384\n",
       "Chinstrap    3733.088235\n",
       "Gentoo       5092.436975\n",
       "Name: body mass, dtype: float64"
      ]
     },
     "execution_count": 19,
     "metadata": {},
     "output_type": "execute_result"
    }
   ],
   "source": [
    "df1.groupby('species')['body mass'].mean()"
   ]
  },
  {
   "cell_type": "code",
   "execution_count": 21,
   "id": "db759f44",
   "metadata": {},
   "outputs": [
    {
     "name": "stdout",
     "output_type": "stream",
     "text": [
      "Statement 1: The statement is not true.\n",
      "Statement 2: The average culmen depths of Adelie males on the three islands are different.\n"
     ]
    }
   ],
   "source": [
    "gentoo_females_biscoe = df1[(df1['species'] == 'Gentoo') & (df1['sex'] == 'FEMALE') & (df1['island'] == 'Biscoe')]\n",
    "\n",
    "# Calculate average culmen depth for all female species\n",
    "average_culmen_depth_all_females = df1[df1['sex'] == 'FEMALE'].groupby('species')['culmen depth'].mean()\n",
    "\n",
    "# Check if the average culmen depth of Gentoo females on Biscoe island is the least\n",
    "is_least_culmen_depth = (gentoo_females_biscoe['culmen depth'].mean() < average_culmen_depth_all_females).all()\n",
    "\n",
    "if is_least_culmen_depth:\n",
    "    print(\"Statement 1: The average culmen depth of Gentoo females on Biscoe island is the least among all female species.\")\n",
    "else:\n",
    "    print(\"Statement 1: The statement is not true.\")\n",
    "\n",
    "# Statement 2: Average culmen depths of Adelie males on the three islands are different\n",
    "\n",
    "# Filter data for Adelie males on the three islands\n",
    "adelie_males = df1[(df1['species'] == 'Adelie') & (df1['sex'] == 'MALE')]\n",
    "\n",
    "# Calculate average culmen depth for Adelie males on each island\n",
    "average_culmen_depth_torgersen = adelie_males[adelie_males['island'] == 'Torgersen']['culmen depth'].mean()\n",
    "average_culmen_depth_biscoe = adelie_males[adelie_males['island'] == 'Biscoe']['culmen depth'].mean()\n",
    "average_culmen_depth_dream = adelie_males[adelie_males['island'] == 'Dream']['culmen depth'].mean()\n",
    "\n",
    "# Check if the average culmen depths of Adelie males on the three islands are different\n",
    "are_different_culmen_depths = (average_culmen_depth_torgersen != average_culmen_depth_biscoe != average_culmen_depth_dream)\n",
    "\n",
    "if are_different_culmen_depths:\n",
    "    print(\"Statement 2: The average culmen depths of Adelie males on the three islands are different.\")\n",
    "else:\n",
    "    print(\"Statement 2: The statement is not true.\")"
   ]
  },
  {
   "cell_type": "code",
   "execution_count": 22,
   "id": "e6984c3d",
   "metadata": {},
   "outputs": [
    {
     "name": "stdout",
     "output_type": "stream",
     "text": [
      "The species with the highest flipper length among female penguins is Gentoo with a flipper length of 222.00 mm.\n"
     ]
    }
   ],
   "source": [
    "female_penguins = df1[df1['sex'] == 'FEMALE']\n",
    "\n",
    "# Find the species with the highest flipper length among female penguins\n",
    "max_flipper_length_species = female_penguins.groupby('species')['flipper length'].max().idxmax()\n",
    "max_flipper_length_value = female_penguins.groupby('species')['flipper length'].max().max()\n",
    "\n",
    "# Print the result\n",
    "print(f\"The species with the highest flipper length among female penguins is {max_flipper_length_species} with a flipper length of {max_flipper_length_value:.2f} mm.\")"
   ]
  },
  {
   "cell_type": "code",
   "execution_count": 23,
   "id": "cb72827f",
   "metadata": {},
   "outputs": [
    {
     "name": "stdout",
     "output_type": "stream",
     "text": [
      "The pair of variables with the highest correlation is '('culmen length', 'culmen length')' with a correlation coefficient of -0.23.\n"
     ]
    }
   ],
   "source": [
    "numeric_columns = df1.select_dtypes(include=['float64']).columns\n",
    "\n",
    "# Calculate the Pearson correlation coefficient for all pairs of numeric variables\n",
    "correlation_matrix = df1[numeric_columns].corr()\n",
    "\n",
    "# Find the pair of variables with the highest correlation\n",
    "max_correlation = correlation_matrix.unstack().sort_values(ascending=False).drop_duplicates().iloc[1]\n",
    "max_correlation_variables = correlation_matrix.unstack().idxmax()\n",
    "\n",
    "# Print the result\n",
    "print(f\"The pair of variables with the highest correlation is '{max_correlation_variables}' with a correlation coefficient of {max_correlation:.2f}.\")"
   ]
  },
  {
   "cell_type": "code",
   "execution_count": 24,
   "id": "2384a1ee",
   "metadata": {},
   "outputs": [
    {
     "data": {
      "text/html": [
       "<div>\n",
       "<style scoped>\n",
       "    .dataframe tbody tr th:only-of-type {\n",
       "        vertical-align: middle;\n",
       "    }\n",
       "\n",
       "    .dataframe tbody tr th {\n",
       "        vertical-align: top;\n",
       "    }\n",
       "\n",
       "    .dataframe thead th {\n",
       "        text-align: right;\n",
       "    }\n",
       "</style>\n",
       "<table border=\"1\" class=\"dataframe\">\n",
       "  <thead>\n",
       "    <tr style=\"text-align: right;\">\n",
       "      <th></th>\n",
       "      <th>species</th>\n",
       "      <th>island</th>\n",
       "      <th>culmen length</th>\n",
       "      <th>culmen depth</th>\n",
       "      <th>flipper length</th>\n",
       "      <th>body mass</th>\n",
       "      <th>sex</th>\n",
       "    </tr>\n",
       "  </thead>\n",
       "  <tbody>\n",
       "    <tr>\n",
       "      <th>0</th>\n",
       "      <td>Adelie</td>\n",
       "      <td>Torgersen</td>\n",
       "      <td>39.1</td>\n",
       "      <td>18.7</td>\n",
       "      <td>181</td>\n",
       "      <td>3750</td>\n",
       "      <td>MALE</td>\n",
       "    </tr>\n",
       "    <tr>\n",
       "      <th>1</th>\n",
       "      <td>Adelie</td>\n",
       "      <td>Torgersen</td>\n",
       "      <td>39.5</td>\n",
       "      <td>17.4</td>\n",
       "      <td>186</td>\n",
       "      <td>3800</td>\n",
       "      <td>FEMALE</td>\n",
       "    </tr>\n",
       "    <tr>\n",
       "      <th>2</th>\n",
       "      <td>Adelie</td>\n",
       "      <td>Torgersen</td>\n",
       "      <td>40.3</td>\n",
       "      <td>18.0</td>\n",
       "      <td>195</td>\n",
       "      <td>3250</td>\n",
       "      <td>FEMALE</td>\n",
       "    </tr>\n",
       "    <tr>\n",
       "      <th>3</th>\n",
       "      <td>Adelie</td>\n",
       "      <td>Torgersen</td>\n",
       "      <td>36.7</td>\n",
       "      <td>19.3</td>\n",
       "      <td>193</td>\n",
       "      <td>3450</td>\n",
       "      <td>FEMALE</td>\n",
       "    </tr>\n",
       "    <tr>\n",
       "      <th>4</th>\n",
       "      <td>Adelie</td>\n",
       "      <td>Torgersen</td>\n",
       "      <td>39.3</td>\n",
       "      <td>20.6</td>\n",
       "      <td>190</td>\n",
       "      <td>3650</td>\n",
       "      <td>MALE</td>\n",
       "    </tr>\n",
       "    <tr>\n",
       "      <th>...</th>\n",
       "      <td>...</td>\n",
       "      <td>...</td>\n",
       "      <td>...</td>\n",
       "      <td>...</td>\n",
       "      <td>...</td>\n",
       "      <td>...</td>\n",
       "      <td>...</td>\n",
       "    </tr>\n",
       "    <tr>\n",
       "      <th>328</th>\n",
       "      <td>Gentoo</td>\n",
       "      <td>Biscoe</td>\n",
       "      <td>47.2</td>\n",
       "      <td>13.7</td>\n",
       "      <td>214</td>\n",
       "      <td>4925</td>\n",
       "      <td>FEMALE</td>\n",
       "    </tr>\n",
       "    <tr>\n",
       "      <th>329</th>\n",
       "      <td>Gentoo</td>\n",
       "      <td>Biscoe</td>\n",
       "      <td>46.8</td>\n",
       "      <td>14.3</td>\n",
       "      <td>215</td>\n",
       "      <td>4850</td>\n",
       "      <td>FEMALE</td>\n",
       "    </tr>\n",
       "    <tr>\n",
       "      <th>330</th>\n",
       "      <td>Gentoo</td>\n",
       "      <td>Biscoe</td>\n",
       "      <td>50.4</td>\n",
       "      <td>15.7</td>\n",
       "      <td>222</td>\n",
       "      <td>5750</td>\n",
       "      <td>MALE</td>\n",
       "    </tr>\n",
       "    <tr>\n",
       "      <th>331</th>\n",
       "      <td>Gentoo</td>\n",
       "      <td>Biscoe</td>\n",
       "      <td>45.2</td>\n",
       "      <td>14.8</td>\n",
       "      <td>212</td>\n",
       "      <td>5200</td>\n",
       "      <td>FEMALE</td>\n",
       "    </tr>\n",
       "    <tr>\n",
       "      <th>332</th>\n",
       "      <td>Gentoo</td>\n",
       "      <td>Biscoe</td>\n",
       "      <td>49.9</td>\n",
       "      <td>16.1</td>\n",
       "      <td>213</td>\n",
       "      <td>5400</td>\n",
       "      <td>MALE</td>\n",
       "    </tr>\n",
       "  </tbody>\n",
       "</table>\n",
       "<p>333 rows × 7 columns</p>\n",
       "</div>"
      ],
      "text/plain": [
       "    species     island  culmen length  culmen depth  flipper length  \\\n",
       "0    Adelie  Torgersen           39.1          18.7             181   \n",
       "1    Adelie  Torgersen           39.5          17.4             186   \n",
       "2    Adelie  Torgersen           40.3          18.0             195   \n",
       "3    Adelie  Torgersen           36.7          19.3             193   \n",
       "4    Adelie  Torgersen           39.3          20.6             190   \n",
       "..      ...        ...            ...           ...             ...   \n",
       "328  Gentoo     Biscoe           47.2          13.7             214   \n",
       "329  Gentoo     Biscoe           46.8          14.3             215   \n",
       "330  Gentoo     Biscoe           50.4          15.7             222   \n",
       "331  Gentoo     Biscoe           45.2          14.8             212   \n",
       "332  Gentoo     Biscoe           49.9          16.1             213   \n",
       "\n",
       "     body mass     sex  \n",
       "0         3750    MALE  \n",
       "1         3800  FEMALE  \n",
       "2         3250  FEMALE  \n",
       "3         3450  FEMALE  \n",
       "4         3650    MALE  \n",
       "..         ...     ...  \n",
       "328       4925  FEMALE  \n",
       "329       4850  FEMALE  \n",
       "330       5750    MALE  \n",
       "331       5200  FEMALE  \n",
       "332       5400    MALE  \n",
       "\n",
       "[333 rows x 7 columns]"
      ]
     },
     "execution_count": 24,
     "metadata": {},
     "output_type": "execute_result"
    }
   ],
   "source": [
    "df1"
   ]
  },
  {
   "cell_type": "code",
   "execution_count": 26,
   "id": "8e10ee54",
   "metadata": {},
   "outputs": [
    {
     "data": {
      "text/plain": [
       "0    39.1\n",
       "1    39.5\n",
       "2    40.3\n",
       "Name: culmen length, dtype: float64"
      ]
     },
     "execution_count": 26,
     "metadata": {},
     "output_type": "execute_result"
    }
   ],
   "source": [
    "df1.iloc[0:3,2]"
   ]
  },
  {
   "cell_type": "code",
   "execution_count": null,
   "id": "daa39ba6",
   "metadata": {},
   "outputs": [],
   "source": []
  }
 ],
 "metadata": {
  "kernelspec": {
   "display_name": "Python 3 (ipykernel)",
   "language": "python",
   "name": "python3"
  },
  "language_info": {
   "codemirror_mode": {
    "name": "ipython",
    "version": 3
   },
   "file_extension": ".py",
   "mimetype": "text/x-python",
   "name": "python",
   "nbconvert_exporter": "python",
   "pygments_lexer": "ipython3",
   "version": "3.11.5"
  }
 },
 "nbformat": 4,
 "nbformat_minor": 5
}
